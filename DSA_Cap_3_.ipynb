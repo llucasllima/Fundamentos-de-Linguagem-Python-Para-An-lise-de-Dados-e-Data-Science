{
  "nbformat": 4,
  "nbformat_minor": 0,
  "metadata": {
    "colab": {
      "provenance": [],
      "authorship_tag": "ABX9TyMEIrdgG3PdgXAtoPEBx0CZ",
      "include_colab_link": true
    },
    "kernelspec": {
      "name": "python3",
      "display_name": "Python 3"
    },
    "language_info": {
      "name": "python"
    }
  },
  "cells": [
    {
      "cell_type": "markdown",
      "metadata": {
        "id": "view-in-github",
        "colab_type": "text"
      },
      "source": [
        "<a href=\"https://colab.research.google.com/github/llucasllima/Fundamentos-de-Linguagem-Python-Para-An-lise-de-Dados-e-Data-Science/blob/main/DSA_Cap_3_.ipynb\" target=\"_parent\"><img src=\"https://colab.research.google.com/assets/colab-badge.svg\" alt=\"Open In Colab\"/></a>"
      ]
    },
    {
      "cell_type": "code",
      "source": [
        "## -----------------------\n",
        "# Algoritmo Bubble Sort\n",
        "## Bubble sort é um algoritmo de ordenação simples que funciona comparando cada elemento com o próximo, trocando-os de lugar se eles estiverem em ordem incorreta.\n",
        "# O Algoritmo repete esse processo várias vezes, até que todos os elementos estejam ordenados. A cada passagem, o maior elemento \"flutua\" para o final do array, como uma bolha.\n",
        "\n",
        "# 1 Passo (Criar uma lista)\n",
        "lista = (6, 7, 8, 3, 10, 19, 4, 1, 0, 61, 30, 16, 17, 82, 29, 34, 43, 21, 11, 39, 56, 67, 12)\n",
        "\n",
        "def bubble_sort(arr):\n",
        "    # Converter a tupla em uma lista\n",
        "    arr = list(arr)\n",
        "    n = len(arr)\n",
        "\n",
        "    # Para cada elemento i do array\n",
        "    for i in range(n):\n",
        "\n",
        "        # Para cada elemento j do array\n",
        "        for j in range(0, n-i-1):\n",
        "\n",
        "            # Se o elemento i for maior que o j\n",
        "            if arr[j] > arr[j+1]:\n",
        "\n",
        "                # Troque os elementos i e j\n",
        "                arr[j], arr[j+1] = arr[j+1], arr[j]\n",
        "\n",
        "    # Converter a lista de volta em uma tupla\n",
        "    return tuple(arr)\n",
        "\n",
        "print(bubble_sort(lista))\n"
      ],
      "metadata": {
        "colab": {
          "base_uri": "https://localhost:8080/"
        },
        "id": "d8X2_MHJgmPv",
        "outputId": "91669d94-6b2e-4d5f-ca61-8a8221767b2d"
      },
      "execution_count": 5,
      "outputs": [
        {
          "output_type": "stream",
          "name": "stdout",
          "text": [
            "(0, 1, 3, 4, 6, 7, 8, 10, 11, 12, 16, 17, 19, 21, 29, 30, 34, 39, 43, 56, 61, 67, 82)\n"
          ]
        }
      ]
    }
  ]
}